{
 "cells": [
  {
   "cell_type": "markdown",
   "metadata": {},
   "source": [
    "# Training the VMMR Cars Dataset with VGG16"
   ]
  },
  {
   "cell_type": "markdown",
   "metadata": {},
   "source": [
    "Copyright (c) 2019 Intel Corporation.\n",
    "\n",
    "Permission is hereby granted, free of charge, to any person obtaining\n",
    "a copy of this software and associated documentation files (the\n",
    "\"Software\"), to deal in the Software without restriction, including\n",
    "without limitation the rights to use, copy, modify, merge, publish,\n",
    "distribute, sublicense, and/or sell copies of the Software, and to\n",
    "permit persons to whom the Software is furnished to do so, subject to\n",
    "the following conditions:\n",
    "\n",
    "The above copyright notice and this permission notice shall be\n",
    "included in all copies or substantial portions of the Software.\n",
    "\n",
    "THE SOFTWARE IS PROVIDED \"AS IS\", WITHOUT WARRANTY OF ANY KIND,\n",
    "EXPRESS OR IMPLIED, INCLUDING BUT NOT LIMITED TO THE WARRANTIES OF\n",
    "MERCHANTABILITY, FITNESS FOR A PARTICULAR PURPOSE AND\n",
    "NONINFRINGEMENT. IN NO EVENT SHALL THE AUTHORS OR COPYRIGHT HOLDERS BE\n",
    "LIABLE FOR ANY CLAIM, DAMAGES OR OTHER LIABILITY, WHETHER IN AN ACTION\n",
    "OF CONTRACT, TORT OR OTHERWISE, ARISING FROM, OUT OF OR IN CONNECTION\n",
    "WITH THE SOFTWARE OR THE USE OR OTHER DEALINGS IN THE SOFTWARE.\n"
   ]
  },
  {
   "cell_type": "markdown",
   "metadata": {},
   "source": [
    "# Objective \n",
    "Understand the stages of preparing for training using the Keras with TensorFlow as a backend and the VGG16 topology. You will initiate training and learn about the relationship between accuracy and loss.  You will then learn about how to evalute your model, test out your model on a sample image and then freeze your model for use outside Keras.\n",
    "\n",
    "# Activities \n",
    "**In this section of the training you will**\n",
    "- Create DataGenerator for your dataset\n",
    "- Learn about CPU Optimization for Tensorflow\n",
    "- Understand Hyperparameter Selection\n",
    "- Compile your model\n",
    "- Learn about callbacks\n",
    "- Start your training\n",
    "- Evaluate Your Model\n",
    "- Test Your Model on a sample image\n",
    "- Freeze your graph"
   ]
  },
  {
   "cell_type": "markdown",
   "metadata": {},
   "source": [
    "### Generate image data generators for training, validation and test data\n",
    "\n",
    "![Load Data](assets/Training_1-1.png)"
   ]
  },
  {
   "cell_type": "markdown",
   "metadata": {},
   "source": [
    "To ingest the data for training purposes we utilize the Keras **ImageDataGenerator** class.  This allows us to easily read in a directory that is structured with each category in its respective folder.  Earlier in the training during the Exploration phase we structured the data in this manner along with specific folders for train, test and validation.  We're going to utilize a generator for each of those folder classes.\n",
    "\n",
    "At this point we also are planning to use **VGG16** which has a Height and Width requirement of **224x224** so we instantiate that here so we can utilize it throughout the rest of the notebook.  The generator will also resize images to that size before feeding it into training, testing or validation so we make sure it will work successfully.  \n",
    "\n",
    "We're also using a **batch size** of 128 which is an ideal number for our system based on testing.  For your machine it might be different depending on how much memory you have access to."
   ]
  },
  {
   "cell_type": "markdown",
   "metadata": {},
   "source": [
    "### Activity\n",
    "\n",
    "Click the cell below and then click **Run**."
   ]
  },
  {
   "cell_type": "code",
   "execution_count": 1,
   "metadata": {},
   "outputs": [
    {
     "name": "stderr",
     "output_type": "stream",
     "text": [
      "C:\\Users\\ukrida\\AppData\\Roaming\\Python\\Python36\\site-packages\\tensorflow\\python\\framework\\dtypes.py:516: FutureWarning: Passing (type, 1) or '1type' as a synonym of type is deprecated; in a future version of numpy, it will be understood as (type, (1,)) / '(1,)type'.\n",
      "  _np_qint8 = np.dtype([(\"qint8\", np.int8, 1)])\n",
      "C:\\Users\\ukrida\\AppData\\Roaming\\Python\\Python36\\site-packages\\tensorflow\\python\\framework\\dtypes.py:517: FutureWarning: Passing (type, 1) or '1type' as a synonym of type is deprecated; in a future version of numpy, it will be understood as (type, (1,)) / '(1,)type'.\n",
      "  _np_quint8 = np.dtype([(\"quint8\", np.uint8, 1)])\n",
      "C:\\Users\\ukrida\\AppData\\Roaming\\Python\\Python36\\site-packages\\tensorflow\\python\\framework\\dtypes.py:518: FutureWarning: Passing (type, 1) or '1type' as a synonym of type is deprecated; in a future version of numpy, it will be understood as (type, (1,)) / '(1,)type'.\n",
      "  _np_qint16 = np.dtype([(\"qint16\", np.int16, 1)])\n",
      "C:\\Users\\ukrida\\AppData\\Roaming\\Python\\Python36\\site-packages\\tensorflow\\python\\framework\\dtypes.py:519: FutureWarning: Passing (type, 1) or '1type' as a synonym of type is deprecated; in a future version of numpy, it will be understood as (type, (1,)) / '(1,)type'.\n",
      "  _np_quint16 = np.dtype([(\"quint16\", np.uint16, 1)])\n",
      "C:\\Users\\ukrida\\AppData\\Roaming\\Python\\Python36\\site-packages\\tensorflow\\python\\framework\\dtypes.py:520: FutureWarning: Passing (type, 1) or '1type' as a synonym of type is deprecated; in a future version of numpy, it will be understood as (type, (1,)) / '(1,)type'.\n",
      "  _np_qint32 = np.dtype([(\"qint32\", np.int32, 1)])\n",
      "C:\\Users\\ukrida\\AppData\\Roaming\\Python\\Python36\\site-packages\\tensorflow\\python\\framework\\dtypes.py:525: FutureWarning: Passing (type, 1) or '1type' as a synonym of type is deprecated; in a future version of numpy, it will be understood as (type, (1,)) / '(1,)type'.\n",
      "  np_resource = np.dtype([(\"resource\", np.ubyte, 1)])\n",
      "C:\\Users\\ukrida\\AppData\\Roaming\\Python\\Python36\\site-packages\\tensorboard\\compat\\tensorflow_stub\\dtypes.py:541: FutureWarning: Passing (type, 1) or '1type' as a synonym of type is deprecated; in a future version of numpy, it will be understood as (type, (1,)) / '(1,)type'.\n",
      "  _np_qint8 = np.dtype([(\"qint8\", np.int8, 1)])\n",
      "C:\\Users\\ukrida\\AppData\\Roaming\\Python\\Python36\\site-packages\\tensorboard\\compat\\tensorflow_stub\\dtypes.py:542: FutureWarning: Passing (type, 1) or '1type' as a synonym of type is deprecated; in a future version of numpy, it will be understood as (type, (1,)) / '(1,)type'.\n",
      "  _np_quint8 = np.dtype([(\"quint8\", np.uint8, 1)])\n",
      "C:\\Users\\ukrida\\AppData\\Roaming\\Python\\Python36\\site-packages\\tensorboard\\compat\\tensorflow_stub\\dtypes.py:543: FutureWarning: Passing (type, 1) or '1type' as a synonym of type is deprecated; in a future version of numpy, it will be understood as (type, (1,)) / '(1,)type'.\n",
      "  _np_qint16 = np.dtype([(\"qint16\", np.int16, 1)])\n",
      "C:\\Users\\ukrida\\AppData\\Roaming\\Python\\Python36\\site-packages\\tensorboard\\compat\\tensorflow_stub\\dtypes.py:544: FutureWarning: Passing (type, 1) or '1type' as a synonym of type is deprecated; in a future version of numpy, it will be understood as (type, (1,)) / '(1,)type'.\n",
      "  _np_quint16 = np.dtype([(\"quint16\", np.uint16, 1)])\n",
      "C:\\Users\\ukrida\\AppData\\Roaming\\Python\\Python36\\site-packages\\tensorboard\\compat\\tensorflow_stub\\dtypes.py:545: FutureWarning: Passing (type, 1) or '1type' as a synonym of type is deprecated; in a future version of numpy, it will be understood as (type, (1,)) / '(1,)type'.\n",
      "  _np_qint32 = np.dtype([(\"qint32\", np.int32, 1)])\n",
      "C:\\Users\\ukrida\\AppData\\Roaming\\Python\\Python36\\site-packages\\tensorboard\\compat\\tensorflow_stub\\dtypes.py:550: FutureWarning: Passing (type, 1) or '1type' as a synonym of type is deprecated; in a future version of numpy, it will be understood as (type, (1,)) / '(1,)type'.\n",
      "  np_resource = np.dtype([(\"resource\", np.ubyte, 1)])\n"
     ]
    },
    {
     "name": "stdout",
     "output_type": "stream",
     "text": [
      "\n",
      "Training Data Set\n",
      "Found 3130 images belonging to 2 classes.\n",
      "\n",
      "Validation Data Set\n",
      "Found 446 images belonging to 2 classes.\n",
      "\n",
      "Test Data Set\n",
      "Found 897 images belonging to 2 classes.\n"
     ]
    }
   ],
   "source": [
    "from tensorflow.keras.preprocessing.image import ImageDataGenerator\n",
    "from tensorflow.keras.applications.vgg16 import preprocess_input, decode_predictions\n",
    "\n",
    "WIDTH=224\n",
    "HEIGHT=224\n",
    "BATCH_SIZE=64\n",
    "test_dir = '../dataset/test/'\n",
    "train_dir = '../dataset/train/'\n",
    "val_dir = '../dataset/val/'\n",
    "\n",
    "#Train DataSet Generator with Augmentation\n",
    "print(\"\\nTraining Data Set\")\n",
    "train_generator = ImageDataGenerator(preprocessing_function=preprocess_input)\n",
    "train_flow = train_generator.flow_from_directory(\n",
    "    train_dir,\n",
    "    target_size=(HEIGHT, WIDTH),\n",
    "    batch_size = BATCH_SIZE\n",
    ")\n",
    "\n",
    "#Validation DataSet Generator with Augmentation\n",
    "print(\"\\nValidation Data Set\")\n",
    "val_generator = ImageDataGenerator(preprocessing_function=preprocess_input)\n",
    "val_flow = val_generator.flow_from_directory(\n",
    "    val_dir,\n",
    "    target_size=(HEIGHT, WIDTH),\n",
    "    batch_size = BATCH_SIZE\n",
    ")\n",
    "\n",
    "#Test DataSet Generator with Augmentation\n",
    "print(\"\\nTest Data Set\")\n",
    "test_generator = ImageDataGenerator(preprocessing_function=preprocess_input)\n",
    "test_flow = test_generator.flow_from_directory(\n",
    "    test_dir,\n",
    "    target_size=(HEIGHT, WIDTH),\n",
    "    batch_size = BATCH_SIZE\n",
    ")"
   ]
  },
  {
   "cell_type": "markdown",
   "metadata": {},
   "source": [
    "### Optimizations for CPU\n",
    "\n",
    "![CPU Optimization](assets/Training_1-2.png)"
   ]
  },
  {
   "cell_type": "markdown",
   "metadata": {},
   "source": [
    "CPUs, which includes Intel® Xeon processors, achieve optimal performance when TensorFlow is built from source with all of the instructions supported by the target CPU.\n",
    "\n",
    "Beyond using the latest instruction sets, Intel has added support for the Intel® Math Kernel Library for Deep Neural Networks (Intel® MKL-DNN) to TensorFlow. While the name is not completely accurate, these optimizations are often simply referred to as MKL or TensorFlow with MKL. TensorFlow with Intel MKL-DNN contains details on the Intel® MKL optimizations.\n",
    "\n",
    "The two configurations listed below are used to optimize CPU performance by adjusting the thread pools.\n",
    "\n",
    "- __intra_op_parallelism_threads__: Nodes that can use multiple threads to parallelize their execution will schedule the individual pieces into this pool.\n",
    "- __inter_op_parallelism_threads__: All ready nodes are scheduled in this pool.\n",
    "\n",
    "These configurations are set via the tf.ConfigProto and passed to tf.Session in the config attribute as shown in the snippet below. For both configuration options, if they are unset or set to zero, will default to the number of logical CPU cores. Testing has shown that the default is effective for systems ranging from one CPU with 4 cores to multiple CPUs with 70+ combined logical cores. A common alternative optimization is to set the number of threads in both pools equal to the number of physical cores rather than logical cores.\n",
    "Intel MKL uses the following environment variables to tune performance:\n",
    "- __KMP_BLOCKTIME__ - Sets the time, in milliseconds, that a thread should wait, after completing the execution of a parallel region, before sleeping.\n",
    "- __KMP_AFFINITY__ - Enables the runtime library to bind threads to physical processing units.\n",
    "- __KMP_SETTINGS__ - Enables (true) or disables (false) the printing of OpenMP* runtime library environment variables during program execution.\n",
    "- __OMP_NUM_THREADS__ - Specifies the number of threads to use.\n",
    "\n",
    "See Optimizing for CPU, \n",
    "https://www.tensorflow.org/performance/performance_guide#optimizing_for_cpu\n"
   ]
  },
  {
   "cell_type": "markdown",
   "metadata": {},
   "source": [
    "### Activity\n",
    "In the cell below, update **intra_op_parallelism_threads** to **8, OMP_NUM_THREADS** to **\"8\"**, **KMP_BLOCKTIME** to **\"1\"**, and then click **Run**."
   ]
  },
  {
   "cell_type": "code",
   "execution_count": 2,
   "metadata": {},
   "outputs": [],
   "source": [
    "from tensorflow.keras.models import Sequential, Model, load_model\n",
    "from tensorflow.keras.callbacks import ModelCheckpoint, EarlyStopping, TensorBoard, CSVLogger\n",
    "from tensorflow.keras import optimizers, models\n",
    "from tensorflow.keras.layers import Dense, Dropout, GlobalAveragePooling2D\n",
    "from tensorflow.keras import applications\n",
    "from tensorflow.keras import backend as K\n",
    "import tensorflow as tf\n",
    "import os\n",
    "\n",
    "NUM_PARALLEL_EXEC_UNITS = 8\n",
    "\n",
    "#Set Performance Parameters for MKL and Tensorflow using Keras backend\n",
    "#TensorFlow\n",
    "config = tf.ConfigProto(\n",
    "    intra_op_parallelism_threads=NUM_PARALLEL_EXEC_UNITS,\n",
    "    inter_op_parallelism_threads=1\n",
    ")\n",
    "\n",
    "session = tf.Session(config=config)\n",
    "K.set_session(session)\n",
    "\n",
    "#MKL and OpenMP\n",
    "os.environ[\"OMP_NUM_THREADS\"] = str(NUM_PARALLEL_EXEC_UNITS)\n",
    "os.environ[\"KMP_BLOCKTIME\"] = \"1\"\n",
    "os.environ[\"KMP_SETTINGS\"] = \"1\"\n",
    "os.environ[\"KMP_AFFINITY\"]= \"granularity=fine,verbose,compact,1,0\""
   ]
  },
  {
   "cell_type": "markdown",
   "metadata": {},
   "source": [
    "### Selecting Hyperparamaters - Recommendations\n",
    "\n",
    "![Hyperparameters](assets/Training_1-3.png)"
   ]
  },
  {
   "cell_type": "markdown",
   "metadata": {},
   "source": [
    "#### What batch size?\n",
    "A batch size is the subset of the training dataset that is utilized in one iteration.\n",
    "It has been observed in practice that when using a larger batch there is a significant degradation in the quality of the model, as measured by its ability to generalize. \n",
    "The lack of generalization ability is due to the fact that large-batch methods tend to converge to sharp minimizers of the training function.\n",
    "\n",
    "In general, batch size of 32 is a good starting point, and you should also try with 64, 128, and 256.\n",
    "Batch size below 32 might get too slow because of significantly lower computational speed as a result of not exploiting vectorization to the full extent.\n",
    "\n",
    "https://arxiv.org/abs/1609.04836\n",
    "\n",
    "#### What Learning rate to use? :\n",
    "The __Learning Rate__ is the size of the steps we take to reach a (local) minimum.\n",
    "A lower learning rate means more steps and therefore trains for a longer time while higher learning rate means less steps which therefore trains for shorter time.\n",
    "Also, too low a learning rate never progresses, and too high a learning rate causes instability and never converges. In between, there is a band of “just right” learning rates that successfully train.\n",
    "\n",
    "There is no single learning rate that works for all optimizers.\n",
    "Learning rate can affect training time by an order of magnitude.\n",
    "Learning rate performance did not depend on model size. The same rates that performed best for 1x size performed best for 10x size.\n",
    "\n",
    "#### Why and what optimizer to use?\n",
    "Gradient Descent is one of the most popular algorithms to perform optimization and by far the\n",
    "most common way to optimize neural networks. __Stochastic Gradient Descent(SGD)__ is a variant of Gradient Descent in which only a few of the samples (selected by batch_size) are used to compute gradient in every iteration. SGD can be optimized with parameter __'Momentum'__ which is a method that helps accelerate SGD in the relevant direction and dampens\n",
    "oscillations.\n",
    "\n",
    "One of the challenges of __SGD__ is that the same learning rate applies to all parameter updates. \n",
    "If the dataset is sparse and the features have very different frequencies, it will not be necessary to update all of them to the same extent, but rather a larger update for rarely occurring features. This problem is addressed by __Adaptive Learning-Rate optimizers__ (Adagrad, Adadelta, RMSprop and Adam) that adapt the learning\n",
    "rate to the parameters, performing larger updates for infrequent and smaller updates for frequent\n",
    "parameters.\n",
    "\n",
    "The main down side of the __Adaptive Learning Rate optimizers__ is that they require more computation to be performed for each parameter in each training step and more state to be retained for each parameter.\n",
    "While a simple __SGD__ Optimizer could equally be used with less computational requirements, it would require more hyperparameter tuning (__learning rate__) before it would converge as quickly.\n",
    "\n",
    "In all, most of the optimizers manage to converge in a reasonable time.\n",
    "\n",
    "https://arxiv.org/pdf/1609.04747.pdf"
   ]
  },
  {
   "cell_type": "markdown",
   "metadata": {},
   "source": [
    "### What is Transfer Learning?\n",
    "\n",
    "Transfer learning is taking the weights from a previously trained network and use them as the basis for the weights in a new network.  Since there is a difference in number of categories between data sets we normally remove the top layers of the network and re-instantiate them to match the number of categories we're trying to choose between.  Using Transfer Learning will significantly speed up your training process by utilizing things like edge detection that the previous training has already learned then you can fine tune the network to your data set.\n",
    "\n",
    "A commonly used transfer learning base is the ImageNet data set weights.\n",
    "\n",
    "\"What is ImageNet?\n",
    "ImageNet is an image dataset organized according to the WordNet hierarchy. Each meaningful concept in WordNet, possibly described by multiple words or word phrases, is called a \"synonym set\" or \"synset\". There are more than 100,000 synsets in WordNet, majority of them are nouns (80,000+). In ImageNet, we aim to provide on average 1000 images to illustrate each synset. Images of each concept are quality-controlled and human-annotated. In its completion, we hope ImageNet will offer tens of millions of cleanly sorted images for most of the concepts in the WordNet hierarchy.\"\n",
    "\n",
    "http://image-net.org/about-overview"
   ]
  },
  {
   "cell_type": "markdown",
   "metadata": {},
   "source": [
    "### Initialize Training Top Layers"
   ]
  },
  {
   "cell_type": "markdown",
   "metadata": {},
   "source": [
    "Start by brining in the pre-defined **VGG16** network provided by Keras.  We'll make sure to include the **imagenet** weights since we want to utilize those weights for Transfer Learning which will speed up our training significantly.  We'll also make sure the **Top Layers** aren't included since we don't want to predict 1001 classes and will then modify the network to fit our dataset.\n",
    "\n",
    "Take the base model and add a **GlobalAveragePooling2D** layer and pass it the output of the base model.  We'll then add a final **Dense Layer** that has a **softmax activation** which will do our predictions on the number of classes in our dataset.  To make sure this is verstile we use the train_flow generator class indicies number so that it will automatically use the correct number of classes in the dataset.\n",
    "\n",
    "Now we iterate over the initial layers of the base model and **disable them for training** by changing the **layer.trainable** variable to False.  This means we'll only train over the new layers that we added specifically for our dataset.\n",
    "\n",
    "Then compile your model and add the optimizer that you want to use.  In this case we'll be using **Adam** with a **Learning Rate** of **0.001**.  We also want to use **loss** of **Categorical Crossentropy** since we have a multi-class classification problem.\n",
    "\n",
    "We can print out the summary of the network after compiling so that we can verify the total number of nodes needing to be training and that the last layers were correctly added to the network.\n",
    "\n",
    "![Compile Model](assets/Training_1-4.png)"
   ]
  },
  {
   "cell_type": "markdown",
   "metadata": {},
   "source": [
    "### Activity\n",
    "\n",
    "Click the cell below and then click **Run**."
   ]
  },
  {
   "cell_type": "code",
   "execution_count": 3,
   "metadata": {
    "scrolled": true
   },
   "outputs": [
    {
     "name": "stdout",
     "output_type": "stream",
     "text": [
      "WARNING:tensorflow:From C:\\Users\\ukrida\\AppData\\Roaming\\Python\\Python36\\site-packages\\tensorflow\\python\\ops\\init_ops.py:1251: calling VarianceScaling.__init__ (from tensorflow.python.ops.init_ops) with dtype is deprecated and will be removed in a future version.\n",
      "Instructions for updating:\n",
      "Call initializer instance with the dtype argument instead of passing it to the constructor\n",
      "WARNING:tensorflow:From C:\\Users\\ukrida\\AppData\\Roaming\\Python\\Python36\\site-packages\\tensorflow\\python\\ops\\nn_impl.py:180: add_dispatch_support.<locals>.wrapper (from tensorflow.python.ops.array_ops) is deprecated and will be removed in a future version.\n",
      "Instructions for updating:\n",
      "Use tf.where in 2.0, which has the same broadcast rule as np.where\n",
      "Model: \"model\"\n",
      "_________________________________________________________________\n",
      "Layer (type)                 Output Shape              Param #   \n",
      "=================================================================\n",
      "input_1 (InputLayer)         [(None, 224, 224, 3)]     0         \n",
      "_________________________________________________________________\n",
      "block1_conv1 (Conv2D)        (None, 224, 224, 64)      1792      \n",
      "_________________________________________________________________\n",
      "block1_conv2 (Conv2D)        (None, 224, 224, 64)      36928     \n",
      "_________________________________________________________________\n",
      "block1_pool (MaxPooling2D)   (None, 112, 112, 64)      0         \n",
      "_________________________________________________________________\n",
      "block2_conv1 (Conv2D)        (None, 112, 112, 128)     73856     \n",
      "_________________________________________________________________\n",
      "block2_conv2 (Conv2D)        (None, 112, 112, 128)     147584    \n",
      "_________________________________________________________________\n",
      "block2_pool (MaxPooling2D)   (None, 56, 56, 128)       0         \n",
      "_________________________________________________________________\n",
      "block3_conv1 (Conv2D)        (None, 56, 56, 256)       295168    \n",
      "_________________________________________________________________\n",
      "block3_conv2 (Conv2D)        (None, 56, 56, 256)       590080    \n",
      "_________________________________________________________________\n",
      "block3_conv3 (Conv2D)        (None, 56, 56, 256)       590080    \n",
      "_________________________________________________________________\n",
      "block3_pool (MaxPooling2D)   (None, 28, 28, 256)       0         \n",
      "_________________________________________________________________\n",
      "block4_conv1 (Conv2D)        (None, 28, 28, 512)       1180160   \n",
      "_________________________________________________________________\n",
      "block4_conv2 (Conv2D)        (None, 28, 28, 512)       2359808   \n",
      "_________________________________________________________________\n",
      "block4_conv3 (Conv2D)        (None, 28, 28, 512)       2359808   \n",
      "_________________________________________________________________\n",
      "block4_pool (MaxPooling2D)   (None, 14, 14, 512)       0         \n",
      "_________________________________________________________________\n",
      "block5_conv1 (Conv2D)        (None, 14, 14, 512)       2359808   \n",
      "_________________________________________________________________\n",
      "block5_conv2 (Conv2D)        (None, 14, 14, 512)       2359808   \n",
      "_________________________________________________________________\n",
      "block5_conv3 (Conv2D)        (None, 14, 14, 512)       2359808   \n",
      "_________________________________________________________________\n",
      "block5_pool (MaxPooling2D)   (None, 7, 7, 512)         0         \n",
      "_________________________________________________________________\n",
      "global_average_pooling2d (Gl (None, 512)               0         \n",
      "_________________________________________________________________\n",
      "dense (Dense)                (None, 1024)              525312    \n",
      "_________________________________________________________________\n",
      "dense_1 (Dense)              (None, 2)                 2050      \n",
      "=================================================================\n",
      "Total params: 15,242,050\n",
      "Trainable params: 527,362\n",
      "Non-trainable params: 14,714,688\n",
      "_________________________________________________________________\n"
     ]
    }
   ],
   "source": [
    "# Initialize VGG16 with transfer learning\n",
    "base_model = applications.VGG16(weights='imagenet', \n",
    "                                include_top=False, \n",
    "                                input_shape=(WIDTH, HEIGHT,3))\n",
    "\n",
    "# add a global spatial average pooling layer\n",
    "x = base_model.output\n",
    "\n",
    "x = GlobalAveragePooling2D()(x)\n",
    "# and a dense layer\n",
    "x = Dense(1024, activation='relu')(x)\n",
    "predictions = Dense(len(train_flow.class_indices), activation='sigmoid')(x)\n",
    "\n",
    "# this is the model we will train\n",
    "model = Model(inputs=base_model.input, outputs=predictions)\n",
    "\n",
    "# first: train only the top layers (which were randomly initialized)\n",
    "# i.e. freeze all convolutional VGG16 layers\n",
    "for layer in base_model.layers:\n",
    "    layer.trainable = False\n",
    "\n",
    "# compile the model (should be done *after* setting layers to non-trainable)\n",
    "model.compile(optimizer=optimizers.Adam(lr=0.001), metrics=['accuracy', 'binary_accuracy'], loss='binary_crossentropy')\n",
    "model.summary()"
   ]
  },
  {
   "cell_type": "markdown",
   "metadata": {},
   "source": [
    "### Start Training / Training Callbacks\n",
    "\n",
    "![Callback and Training](assets/Training_1-5.png)"
   ]
  },
  {
   "cell_type": "markdown",
   "metadata": {},
   "source": [
    "To start our training we're going to utilize the Keras Fit Generator method.  This will allow us to pass in the ImageDataGenerator/flow_from_directory structure from above directly to the method.  Here is where we can also set our epochs, validation set, and callbacks.\n",
    "\n",
    "Setting an epoch count can really depend on the dataset that you're using and how long you're willing to wait for the training to complete.  During out testing phase we ended up trying 100 epoch's and utilizing Callbacks to make sure that we're not overfitting.\n",
    "\n",
    "It's useful to have a **validation set** that you can try to maximize toward when doing your training.  This way you have an idea of how well things are going on a small subset of data that isn't the test set.  If you use the test set for this purpose it will be harder to tell if you're generalizing well or if you're only fitting to the test set specifically and won't do well in a real world test.  Earlier in the notebook we insantiated a validation set generator which we can pass in here by setting the generator to the validation_data paramter.\n",
    "\n",
    "We need to specify both the validation and training number of steps per epoch.  We can use variables defined in our generators so that we're not hard coding numbers directly in these fields.  This is done by taking our sample size and dividing by our batch size then utilizing the math.ceil function so we properly account for the final smaller batch in the dataset.\n",
    "\n",
    "Lastly, we define 4 different callbacks that we're going to use during our training.  Callbacks are called after an epoch of training is complete and then will perform whatever action is necessary.\n",
    "\n",
    "### Callbacks\n",
    "\n",
    "**ModelCheckpoint**: Used to save our checkpoint based on a certain set of criteria.  In this case we're monitor our loss and looking for the min value.  After an epoch it will check to see if the loss is lower than the previous epoch of training and if so then to save the model to disk.  We're also indicating that we want to save only the best model so the previous model will be overwritten.  This will minimize the amount of disk space taken up by models.\n",
    "\n",
    "**TensorBoard**: Utilizing this checkpoint will write out the tf.events file during training so we can view them in TensorBoard.  We need to indicate a location for the logs to be saved and the update frequence for which we want the data.  In our case we're asking for batch frequence data so we need to also pass in the batch size to the function.  We can then start Tensorboard and point the --logdir parameter at the directory where the logs are saved to see how our training is going.\n",
    "\n",
    "**EarlyStopping**: This is used to make sure that we're not overtraining and overutilizing our compute.  It will monitor a metric after every epoch and see how much it has changed since the previous epoch.  If it hasn't changed significantly over the last n number of epochs it will end the training prematurely since there isn't much gain from going further.  In this case we're monitoring loss and asking for it to minimize the value, we also give a patience value of 5 which means the value has to not change significantly for 5 epochs before the training will be stopped.\n",
    "\n",
    "**CSVLogger**: Another logging technique that can be easier to read by directly inspecting the log file.  This can be useful if you're not interested in using TensorBoard or just want to use a simpler logging output.  It will write out the metrics we're keeping track of during training and append them to the CSV file giving during the instanitation of the callback.\n",
    "\n",
    "### Activity\n",
    "\n",
    "Click the cell below and then click **Run**."
   ]
  },
  {
   "cell_type": "code",
   "execution_count": 4,
   "metadata": {
    "scrolled": true
   },
   "outputs": [
    {
     "name": "stdout",
     "output_type": "stream",
     "text": [
      "Epoch 1/5\n",
      "48/49 [============================>.] - ETA: 14s - loss: 0.1286 - acc: 0.9677 - binary_accuracy: 0.9677\n",
      "Epoch 00001: loss improved from inf to 0.12591, saving model to top_layers.vgg16.hdf5\n",
      "49/49 [==============================] - 809s 17s/step - loss: 0.1261 - acc: 0.9682 - binary_accuracy: 0.9682 - val_loss: 0.0392 - val_acc: 0.9865 - val_binary_accuracy: 0.9865\n",
      "Epoch 2/5\n",
      "48/49 [============================>.] - ETA: 14s - loss: 0.0137 - acc: 0.9964 - binary_accuracy: 0.9964\n",
      "Epoch 00002: loss improved from 0.12591 to 0.01344, saving model to top_layers.vgg16.hdf5\n",
      "49/49 [==============================] - 798s 16s/step - loss: 0.0134 - acc: 0.9965 - binary_accuracy: 0.9965 - val_loss: 0.0330 - val_acc: 0.9899 - val_binary_accuracy: 0.9899\n",
      "Epoch 3/5\n",
      "48/49 [============================>.] - ETA: 14s - loss: 0.0154 - acc: 0.9966 - binary_accuracy: 0.9966\n",
      "Epoch 00003: loss did not improve from 0.01344\n",
      "49/49 [==============================] - 800s 16s/step - loss: 0.0151 - acc: 0.9966 - binary_accuracy: 0.9966 - val_loss: 0.0230 - val_acc: 0.9877 - val_binary_accuracy: 0.9877\n",
      "Epoch 4/5\n",
      "48/49 [============================>.] - ETA: 14s - loss: 0.0094 - acc: 0.9984 - binary_accuracy: 0.9984\n",
      "Epoch 00004: loss improved from 0.01344 to 0.01233, saving model to top_layers.vgg16.hdf5\n",
      "49/49 [==============================] - 803s 16s/step - loss: 0.0123 - acc: 0.9981 - binary_accuracy: 0.9981 - val_loss: 0.0411 - val_acc: 0.9888 - val_binary_accuracy: 0.9888\n",
      "Epoch 5/5\n",
      "48/49 [============================>.] - ETA: 14s - loss: 0.0106 - acc: 0.9972 - binary_accuracy: 0.9972\n",
      "Epoch 00005: loss improved from 0.01233 to 0.01043, saving model to top_layers.vgg16.hdf5\n",
      "49/49 [==============================] - 807s 16s/step - loss: 0.0104 - acc: 0.9973 - binary_accuracy: 0.9973 - val_loss: 0.0430 - val_acc: 0.9877 - val_binary_accuracy: 0.9877\n"
     ]
    }
   ],
   "source": [
    "import math\n",
    "top_layers_file_path=\"top_layers.vgg16.hdf5\"\n",
    "\n",
    "checkpoint = ModelCheckpoint(top_layers_file_path, monitor='loss', verbose=1, save_best_only=True, mode='min')\n",
    "tb = TensorBoard(log_dir='logs', batch_size=val_flow.batch_size, write_graph=True, update_freq='batch')\n",
    "early = EarlyStopping(monitor=\"loss\", mode=\"min\", patience=5)\n",
    "csv_logger = CSVLogger('logs/vgg16-log.csv', append=True)\n",
    "\n",
    "history = model.fit_generator(train_flow, \n",
    "                              epochs=5, \n",
    "                              verbose=1,\n",
    "                              validation_data=val_flow,\n",
    "                              validation_steps=math.ceil(val_flow.samples/val_flow.batch_size),\n",
    "                              steps_per_epoch=math.ceil(train_flow.samples/train_flow.batch_size),\n",
    "                              callbacks=[checkpoint, early, tb, csv_logger])"
   ]
  },
  {
   "cell_type": "markdown",
   "metadata": {},
   "source": [
    "### Evaluate Model\n",
    "\n",
    "![Evaluate Model](assets/Training_1-6.png)"
   ]
  },
  {
   "cell_type": "markdown",
   "metadata": {},
   "source": [
    "To evaluate our training results we can use the **evaluation generator**.  This will integrate well with our data generator from the previous step that points to our testing set.  We will again have to specify the amount of steps used by calculating with samples and batch size and indicated earlier.\n",
    "\n",
    "We're also going to receive three different results from our evaluate generator: **loss**, **accuracy** and **top k accuracy**.  These are given since when we compiled our model we indicated that we're evaluting for **categorical crossentropy** for **loss** and our **metrics** were **accuracy** and **top_k_categorical_accuracy** which will evaluate if our result was in the top 5 confidence.  If we added or removed a metric during compiliation it would be reflected here in our evaluation generator and we would get more or less values in return from this function.\n",
    "\n",
    "### Activity\n",
    "\n",
    "Click the cell below and then click **Run**."
   ]
  },
  {
   "cell_type": "code",
   "execution_count": 5,
   "metadata": {},
   "outputs": [
    {
     "name": "stdout",
     "output_type": "stream",
     "text": [
      "15/15 [==============================] - 198s 13s/step - loss: 0.1378 - acc: 0.9548 - binary_accuracy: 0.9548\n",
      "Loss:  0.1378315817322194\n",
      "Acc:  0.9548495\n",
      "Top 5:  0.9548495\n"
     ]
    }
   ],
   "source": [
    "model.load_weights(top_layers_file_path)\n",
    "loss, acc, top_5 = model.evaluate_generator(\n",
    "    test_flow,\n",
    "    verbose = True,\n",
    "    steps=math.ceil(test_flow.samples/test_flow.batch_size))\n",
    "print(\"Loss: \", loss)\n",
    "print(\"Acc: \", acc)\n",
    "print(\"Top 5: \", top_5)"
   ]
  },
  {
   "cell_type": "markdown",
   "metadata": {},
   "source": [
    "### Write Labels File"
   ]
  },
  {
   "cell_type": "markdown",
   "metadata": {},
   "source": [
    "In Deep learning, when we're training our network we're using a numerical value for the actual class that is predicated at the end of each batch through the network.  The network itself doesn't care what the actual string class name is, only that it's optimizing for one of the n classes you have in your dataset.  \n",
    "\n",
    "So when we move forward and use our network we need to indicate what numerical value the network was using to represent the correct class name.  We can do this by iterating over any of the data generator class_indicies values and use a list comprehension to extract the values.  We're going to write these values out in order to a text file to represent the numerical value mapping to class name for future use.\n",
    "\n",
    "### Activity\n",
    "\n",
    "Click the cell below and then click **Run**."
   ]
  },
  {
   "cell_type": "code",
   "execution_count": 6,
   "metadata": {},
   "outputs": [],
   "source": [
    "label = [k for k,v in train_flow.class_indices.items()]\n",
    "with open('vgg16-labels.txt', 'w+') as file:\n",
    "    file.write(\"\\n\".join(label))"
   ]
  },
  {
   "cell_type": "markdown",
   "metadata": {},
   "source": [
    "### Test Model with Sample image\n",
    "\n",
    "![Test Model](assets/Training_1-7.png)"
   ]
  },
  {
   "cell_type": "markdown",
   "metadata": {},
   "source": [
    "Now that we're done training we want to see the results for our model on a test image.  We're going to load a random image chosen from our test set and run it through the model.\n",
    "\n",
    "We can use Keras to load the image and resize it to the given size required for the network.  We then need to convert the Image object to an array and add an extra axis to the array so it's in the format (n, h, w, c).  Then it will be run through the preprocessing step required for all inputs into the network and passed into the model.predict run for the results.\n",
    "\n",
    "After running the image through the model for a prediction we need to map the indicies to the correct class names and we can also take a look at the confidence values returned by the softmax.  \n",
    "\n",
    "To do this we'll start by sorting the prediction results by index.  Then we can get the top X number of values from the end of the array and then we'll reorder the array in the reverse order since the highest confidence is the last value in the array.  We can then use this array to read the confidence and label of the top X results.\n",
    "\n",
    "### Activity\n",
    "\n",
    "Click the cell below and then click **Run**."
   ]
  },
  {
   "cell_type": "code",
   "execution_count": 7,
   "metadata": {},
   "outputs": [
    {
     "name": "stdout",
     "output_type": "stream",
     "text": [
      "Image Category:  without_mask\n",
      "Raw Predictions:  [[8.516235e-06 9.999896e-01]]\n",
      "\n",
      "Top 3 confidence: 0.9999896 8.516235e-06\n",
      "Top 3 labels: without_mask with_mask\n"
     ]
    }
   ],
   "source": [
    "from tensorflow.keras.preprocessing import image\n",
    "import numpy as np\n",
    "import glob\n",
    "import random\n",
    "\n",
    "file_list = glob.glob(\"../dataset/test/*/*\")\n",
    "img_path = random.choice(file_list)\n",
    "img_cat = os.path.split(os.path.dirname(img_path))[1]\n",
    "print(\"Image Category: \", img_cat)\n",
    "img = image.load_img(img_path, target_size=(224, 224))\n",
    "x = image.img_to_array(img)\n",
    "x = np.expand_dims(x, axis=0)\n",
    "x = preprocess_input(x)\n",
    "\n",
    "preds = model.predict(x)\n",
    "print(\"Raw Predictions: \", preds)\n",
    "\n",
    "top_x = 3\n",
    "top_args = preds[0].argsort()[-top_x:][::-1]\n",
    "preds_label = [label[p] for p in top_args]\n",
    "print(\"\\nTop \" + str(top_x) + \" confidence: \" + \" \".join(map(str, sorted(preds[0])[-top_x:][::-1])))\n",
    "print(\"Top \" + str(top_x) + \" labels: \" + \" \".join(map(str, preds_label)))"
   ]
  },
  {
   "cell_type": "markdown",
   "metadata": {},
   "source": [
    "### Transform Keras Model to Tensorflow Frozen Graph\n",
    "\n",
    "![Freeze Graph](assets/Training_1-8.png)"
   ]
  },
  {
   "cell_type": "markdown",
   "metadata": {},
   "source": [
    "Keras utilizes the h5 or hdf5 file format when saving its model.  If we want to use our model outside of Keras, in **OpenVINO**, we need a frozen pb file to pass in when using a Tensorflow model.  We can do that directly from Keras by utilizing the below functions.\n",
    "\n",
    "First we need to make sure that you set the learning phase to 0 or you might end up not correctly getting the output node from the session.  Then we grab the session and output names and pass them to graph_util.convert_variables_to_constants.\n",
    "\n",
    "\"If you have a trained graph containing Variable ops, it can be convenient to convert them all to Const ops holding the same values. This makes it possible to describe the network fully with a single GraphDef file, and allows the removal of a lot of ops related to loading and saving the variables.\"\n",
    "https://www.tensorflow.org/api_docs/python/tf/graph_util/convert_variables_to_constants\n",
    "\n",
    "and then we pass that constant graph to graph_io.write_graph which writes the graph proto to a file.\n",
    "\n",
    "### Activity\n",
    "\n",
    "Click the cell below and then click **Run**."
   ]
  },
  {
   "cell_type": "code",
   "execution_count": 8,
   "metadata": {},
   "outputs": [
    {
     "name": "stdout",
     "output_type": "stream",
     "text": [
      "WARNING:tensorflow:From C:\\Users\\ukrida\\AppData\\Roaming\\Python\\Python36\\site-packages\\tensorflow\\python\\ops\\init_ops.py:97: calling GlorotUniform.__init__ (from tensorflow.python.ops.init_ops) with dtype is deprecated and will be removed in a future version.\n",
      "Instructions for updating:\n",
      "Call initializer instance with the dtype argument instead of passing it to the constructor\n",
      "WARNING:tensorflow:From C:\\Users\\ukrida\\AppData\\Roaming\\Python\\Python36\\site-packages\\tensorflow\\python\\ops\\init_ops.py:97: calling Zeros.__init__ (from tensorflow.python.ops.init_ops) with dtype is deprecated and will be removed in a future version.\n",
      "Instructions for updating:\n",
      "Call initializer instance with the dtype argument instead of passing it to the constructor\n",
      "WARNING:tensorflow:From <ipython-input-8-a8df028caaff>:17: convert_variables_to_constants (from tensorflow.python.framework.graph_util_impl) is deprecated and will be removed in a future version.\n",
      "Instructions for updating:\n",
      "Use `tf.compat.v1.graph_util.convert_variables_to_constants`\n",
      "WARNING:tensorflow:From C:\\Users\\ukrida\\AppData\\Roaming\\Python\\Python36\\site-packages\\tensorflow\\python\\framework\\graph_util_impl.py:270: extract_sub_graph (from tensorflow.python.framework.graph_util_impl) is deprecated and will be removed in a future version.\n",
      "Instructions for updating:\n",
      "Use `tf.compat.v1.graph_util.extract_sub_graph`\n",
      "INFO:tensorflow:Froze 30 variables.\n",
      "INFO:tensorflow:Converted 30 variables to const ops.\n"
     ]
    },
    {
     "data": {
      "text/plain": [
       "'tf_model\\\\top_layers.vgg16.pb'"
      ]
     },
     "execution_count": 8,
     "metadata": {},
     "output_type": "execute_result"
    }
   ],
   "source": [
    "from tensorflow.python.framework import graph_util\n",
    "from tensorflow.python.framework import graph_io\n",
    "\n",
    "input_model_path = top_layers_file_path\n",
    "output_model_name = \"top_layers.vgg16.pb\"\n",
    "output_model_dir = \"tf_model\"\n",
    "\n",
    "K.set_learning_phase(0)\n",
    "sess = K.get_session()\n",
    "\n",
    "test_model = models.load_model(input_model_path)\n",
    "orig_output_node_names = [node.op.name for node in test_model.outputs]\n",
    "\n",
    "constant_graph = graph_util.convert_variables_to_constants(\n",
    "    sess,\n",
    "    sess.graph.as_graph_def(),\n",
    "    orig_output_node_names)\n",
    "graph_io.write_graph(\n",
    "    constant_graph,\n",
    "    output_model_dir,\n",
    "    output_model_name,\n",
    "    as_text=False)"
   ]
  },
  {
   "cell_type": "code",
   "execution_count": 9,
   "metadata": {},
   "outputs": [
    {
     "data": {
      "image/png": "[encoded data removed]",
      "text/plain": [
       "<Figure size 576x576 with 2 Axes>"
      ]
     },
     "metadata": {
      "needs_background": "light"
     },
     "output_type": "display_data"
    }
   ],
   "source": [
    "import matplotlib.pyplot as plt\n",
    "acc = history.history['acc']\n",
    "val_acc = history.history['val_acc']\n",
    "loss = history.history['loss']\n",
    "val_loss = history.history['val_loss']\n",
    "\n",
    "plt.figure(figsize=(8, 8))\n",
    "plt.subplot(2, 1, 1)\n",
    "plt.plot(acc, label='Training Accuracy')\n",
    "plt.plot(val_acc, label='Validation Accuracy')\n",
    "plt.legend(loc='lower right')\n",
    "plt.ylabel('Accuracy')\n",
    "plt.ylim([min(plt.ylim()),1])\n",
    "plt.title('VGG16 Training and Validation Accuracy - Top Layers')\n",
    "\n",
    "plt.subplot(2, 1, 2)\n",
    "plt.plot(loss, label='Training Loss')\n",
    "plt.plot(val_loss, label='Validation Loss')\n",
    "plt.legend(loc='upper right')\n",
    "plt.ylabel('Cross Entropy')\n",
    "plt.ylim([0,1.0])\n",
    "plt.title('VGG16 Training and Validation Loss - Top Layers')\n",
    "plt.xlabel('epoch')\n",
    "plt.show()"
   ]
  },
  {
   "cell_type": "markdown",
   "metadata": {},
   "source": [
    "### Summary - Initial Training Done\n",
    "\n",
    "You've learned about the following:\n",
    "- Create DataGenerator for your dataset\n",
    "- Learn about CPU Optimization for Tensorflow\n",
    "- Understand Hyperparameter Selection\n",
    "- Compile your model\n",
    "- Learn about callbacks\n",
    "- Start your training\n",
    "- Evaluate Your Model\n",
    "- Test Your Model on a sample image\n",
    "- Freeze your graph\n",
    "\n",
    "We've now completed the first round of training!  You can now utilize the frozen graph from the end of this section to run inference with through OpenVINO.  "
   ]
  },
  {
   "cell_type": "markdown",
   "metadata": {},
   "source": [
    "# Optional - Additional Training for the Entire Network"
   ]
  },
  {
   "cell_type": "markdown",
   "metadata": {},
   "source": [
    "### Fine Tuning the Entire Network\n",
    "\n",
    "We previously fine tuned only the top layer of the network.  Now we're going to allow for all of the layers in the network to be trained but we're going to use a lower learning rate.  This will let the network narrow in and tune the remaining weights we didn't tune from the ImageNet checkpoint.\n",
    "\n",
    "We'll start by unfreezing all the layers in our model and then compiling the model again.  The remaining pieces of the code will be almost identical to the above except that we're making sure to indicate file path names that indicate we're utilizing all the nodes in this training."
   ]
  },
  {
   "cell_type": "code",
   "execution_count": 10,
   "metadata": {},
   "outputs": [
    {
     "name": "stdout",
     "output_type": "stream",
     "text": [
      "Model: \"model\"\n",
      "_________________________________________________________________\n",
      "Layer (type)                 Output Shape              Param #   \n",
      "=================================================================\n",
      "input_1 (InputLayer)         [(None, 224, 224, 3)]     0         \n",
      "_________________________________________________________________\n",
      "block1_conv1 (Conv2D)        (None, 224, 224, 64)      1792      \n",
      "_________________________________________________________________\n",
      "block1_conv2 (Conv2D)        (None, 224, 224, 64)      36928     \n",
      "_________________________________________________________________\n",
      "block1_pool (MaxPooling2D)   (None, 112, 112, 64)      0         \n",
      "_________________________________________________________________\n",
      "block2_conv1 (Conv2D)        (None, 112, 112, 128)     73856     \n",
      "_________________________________________________________________\n",
      "block2_conv2 (Conv2D)        (None, 112, 112, 128)     147584    \n",
      "_________________________________________________________________\n",
      "block2_pool (MaxPooling2D)   (None, 56, 56, 128)       0         \n",
      "_________________________________________________________________\n",
      "block3_conv1 (Conv2D)        (None, 56, 56, 256)       295168    \n",
      "_________________________________________________________________\n",
      "block3_conv2 (Conv2D)        (None, 56, 56, 256)       590080    \n",
      "_________________________________________________________________\n",
      "block3_conv3 (Conv2D)        (None, 56, 56, 256)       590080    \n",
      "_________________________________________________________________\n",
      "block3_pool (MaxPooling2D)   (None, 28, 28, 256)       0         \n",
      "_________________________________________________________________\n",
      "block4_conv1 (Conv2D)        (None, 28, 28, 512)       1180160   \n",
      "_________________________________________________________________\n",
      "block4_conv2 (Conv2D)        (None, 28, 28, 512)       2359808   \n",
      "_________________________________________________________________\n",
      "block4_conv3 (Conv2D)        (None, 28, 28, 512)       2359808   \n",
      "_________________________________________________________________\n",
      "block4_pool (MaxPooling2D)   (None, 14, 14, 512)       0         \n",
      "_________________________________________________________________\n",
      "block5_conv1 (Conv2D)        (None, 14, 14, 512)       2359808   \n",
      "_________________________________________________________________\n",
      "block5_conv2 (Conv2D)        (None, 14, 14, 512)       2359808   \n",
      "_________________________________________________________________\n",
      "block5_conv3 (Conv2D)        (None, 14, 14, 512)       2359808   \n",
      "_________________________________________________________________\n",
      "block5_pool (MaxPooling2D)   (None, 7, 7, 512)         0         \n",
      "_________________________________________________________________\n",
      "global_average_pooling2d (Gl (None, 512)               0         \n",
      "_________________________________________________________________\n",
      "dense (Dense)                (None, 1024)              525312    \n",
      "_________________________________________________________________\n",
      "dense_1 (Dense)              (None, 2)                 2050      \n",
      "=================================================================\n",
      "Total params: 15,242,050\n",
      "Trainable params: 15,242,050\n",
      "Non-trainable params: 0\n",
      "_________________________________________________________________\n"
     ]
    }
   ],
   "source": [
    "model = load_model(top_layers_file_path)\n",
    "\n",
    "# unfreeze all layers\n",
    "for layer in model.layers:\n",
    "    layer.trainable = True\n",
    "\n",
    "# we need to recompile the model for these modifications to take effect\n",
    "# we use SGD with a low learning rate\n",
    "model.compile(optimizer=optimizers.Adam(lr=0.0001), metrics=['accuracy', 'binary_accuracy'], loss='binary_crossentropy')\n",
    "model.summary()"
   ]
  },
  {
   "cell_type": "code",
   "execution_count": 11,
   "metadata": {
    "scrolled": true
   },
   "outputs": [
    {
     "name": "stdout",
     "output_type": "stream",
     "text": [
      "Epoch 1/5\n",
      "48/49 [============================>.] - ETA: 55s - loss: 1.0627 - acc: 0.8120 - binary_accuracy: 0.8120 \n",
      "Epoch 00001: loss improved from inf to 1.04336, saving model to all_layers.vgg16.hdf5\n",
      "49/49 [==============================] - 2848s 58s/step - loss: 1.0426 - acc: 0.8153 - binary_accuracy: 0.8153 - val_loss: 0.6285 - val_acc: 0.6816 - val_binary_accuracy: 0.6816\n",
      "Epoch 2/5\n",
      "48/49 [============================>.] - ETA: 55s - loss: 0.0791 - acc: 0.9729 - binary_accuracy: 0.9729 \n",
      "Epoch 00002: loss improved from 1.04336 to 0.07783, saving model to all_layers.vgg16.hdf5\n",
      "49/49 [==============================] - 2807s 57s/step - loss: 0.0779 - acc: 0.9732 - binary_accuracy: 0.9732 - val_loss: 0.2667 - val_acc: 0.9148 - val_binary_accuracy: 0.9148\n",
      "Epoch 3/5\n",
      "48/49 [============================>.] - ETA: 54s - loss: 0.0450 - acc: 0.9850 - binary_accuracy: 0.9850 \n",
      "Epoch 00003: loss improved from 0.07783 to 0.04545, saving model to all_layers.vgg16.hdf5\n",
      "49/49 [==============================] - 2798s 57s/step - loss: 0.0454 - acc: 0.9850 - binary_accuracy: 0.9850 - val_loss: 0.2123 - val_acc: 0.9058 - val_binary_accuracy: 0.9058\n",
      "Epoch 4/5\n",
      "48/49 [============================>.] - ETA: 55s - loss: 0.0264 - acc: 0.9904 - binary_accuracy: 0.9904 \n",
      "Epoch 00004: loss improved from 0.04545 to 0.02616, saving model to all_layers.vgg16.hdf5\n",
      "49/49 [==============================] - 2812s 57s/step - loss: 0.0262 - acc: 0.9906 - binary_accuracy: 0.9906 - val_loss: 0.2253 - val_acc: 0.9170 - val_binary_accuracy: 0.9170\n",
      "Epoch 5/5\n",
      "48/49 [============================>.] - ETA: 55s - loss: 0.0191 - acc: 0.9938 - binary_accuracy: 0.9938 \n",
      "Epoch 00005: loss improved from 0.02616 to 0.02204, saving model to all_layers.vgg16.hdf5\n",
      "49/49 [==============================] - 2807s 57s/step - loss: 0.0220 - acc: 0.9933 - binary_accuracy: 0.9933 - val_loss: 0.1959 - val_acc: 0.9103 - val_binary_accuracy: 0.9103\n"
     ]
    }
   ],
   "source": [
    "#Start Training top layers\n",
    "all_nodes_file_path=\"all_layers.vgg16.hdf5\"\n",
    "checkpoint = ModelCheckpoint(all_nodes_file_path, monitor='loss', verbose=1, save_best_only=True, mode='min')\n",
    "\n",
    "train_flow.reset()\n",
    "val_flow.reset()\n",
    "history = model.fit_generator(train_flow, \n",
    "                              epochs=5, \n",
    "                              verbose=1,\n",
    "                              validation_data=val_flow,\n",
    "                              validation_steps=math.ceil(val_flow.samples/val_flow.batch_size),\n",
    "                              steps_per_epoch=math.ceil(train_flow.samples/train_flow.batch_size),\n",
    "                              callbacks=[checkpoint, early, tb, csv_logger])"
   ]
  },
  {
   "cell_type": "code",
   "execution_count": 12,
   "metadata": {},
   "outputs": [
    {
     "name": "stdout",
     "output_type": "stream",
     "text": [
      "15/15 [==============================] - 197s 13s/step - loss: 0.4708 - acc: 0.7486 - binary_accuracy: 0.7486\n",
      "Loss:  0.4707621852556864\n",
      "Acc:  0.74860644\n",
      "Top 5:  0.74860644\n"
     ]
    }
   ],
   "source": [
    "\n",
    "#Load Trained Model and Test\n",
    "model.load_weights(all_nodes_file_path)\n",
    "test_flow.reset()\n",
    "loss, acc, top_5 = model.evaluate_generator(\n",
    "    test_flow,\n",
    "    verbose = True,\n",
    "    steps=math.ceil(test_flow.samples/test_flow.batch_size))\n",
    "print(\"Loss: \", loss)\n",
    "print(\"Acc: \", acc)\n",
    "print(\"Top 5: \", top_5)"
   ]
  },
  {
   "cell_type": "code",
   "execution_count": 13,
   "metadata": {},
   "outputs": [
    {
     "name": "stdout",
     "output_type": "stream",
     "text": [
      "Image Category:  without_mask\n",
      "Raw Predictions:  [[6.5998993e-06 9.9999428e-01]]\n",
      "\n",
      "Top 3 confidence: 0.9999943 6.5998993e-06\n",
      "Top 3 labels: without_mask with_mask\n"
     ]
    }
   ],
   "source": [
    "file_list = glob.glob(\"../dataset/test/*/*\")\n",
    "img_path = random.choice(file_list)\n",
    "img_cat = os.path.split(os.path.dirname(img_path))[1]\n",
    "print(\"Image Category: \", img_cat)\n",
    "img = image.load_img(img_path, target_size=(224, 224))\n",
    "x = image.img_to_array(img)\n",
    "x = np.expand_dims(x, axis=0)\n",
    "x = preprocess_input(x)\n",
    "\n",
    "preds = model.predict(x)\n",
    "print(\"Raw Predictions: \", preds)\n",
    "\n",
    "top_x = 3\n",
    "top_args = preds[0].argsort()[-top_x:][::-1]\n",
    "preds_label = [label[p] for p in top_args]\n",
    "print(\"\\nTop \" + str(top_x) + \" confidence: \" + \" \".join(map(str, sorted(preds[0])[-top_x:][::-1])))\n",
    "print(\"Top \" + str(top_x) + \" labels: \" + \" \".join(map(str, preds_label)))"
   ]
  },
  {
   "cell_type": "code",
   "execution_count": 14,
   "metadata": {},
   "outputs": [
    {
     "name": "stdout",
     "output_type": "stream",
     "text": [
      "INFO:tensorflow:Froze 30 variables.\n",
      "INFO:tensorflow:Converted 30 variables to const ops.\n"
     ]
    },
    {
     "data": {
      "text/plain": [
       "'tf_model\\\\all_layers.vgg16.pb'"
      ]
     },
     "execution_count": 14,
     "metadata": {},
     "output_type": "execute_result"
    }
   ],
   "source": [
    "from tensorflow.python.framework import graph_util\n",
    "from tensorflow.python.framework import graph_io\n",
    "\n",
    "input_model_path = all_nodes_file_path\n",
    "output_model_name = \"all_layers.vgg16.pb\"\n",
    "output_model_dir = \"tf_model\"\n",
    "\n",
    "K.set_learning_phase(0)\n",
    "sess = K.get_session()\n",
    "\n",
    "test_model = models.load_model(input_model_path)\n",
    "orig_output_node_names = [node.op.name for node in test_model.outputs]\n",
    "\n",
    "constant_graph = graph_util.convert_variables_to_constants(\n",
    "    sess,\n",
    "    sess.graph.as_graph_def(),\n",
    "    orig_output_node_names)\n",
    "graph_io.write_graph(\n",
    "    constant_graph,\n",
    "    output_model_dir,\n",
    "    output_model_name,\n",
    "    as_text=False)"
   ]
  },
  {
   "cell_type": "code",
   "execution_count": 15,
   "metadata": {},
   "outputs": [
    {
     "data": {
      "image/png": "[encoded data removed]",
      "text/plain": [
       "<Figure size 576x576 with 2 Axes>"
      ]
     },
     "metadata": {
      "needs_background": "light"
     },
     "output_type": "display_data"
    }
   ],
   "source": [
    "import matplotlib.pyplot as plt\n",
    "acc = history.history['acc']\n",
    "val_acc = history.history['val_acc']\n",
    "loss = history.history['loss']\n",
    "val_loss = history.history['val_loss']\n",
    "\n",
    "plt.figure(figsize=(8, 8))\n",
    "plt.subplot(2, 1, 1)\n",
    "plt.plot(acc, label='Training Accuracy')\n",
    "plt.plot(val_acc, label='Validation Accuracy')\n",
    "plt.legend(loc='lower right')\n",
    "plt.ylabel('Accuracy')\n",
    "plt.ylim([min(plt.ylim()),1])\n",
    "plt.title('VGG16 Training and Validation Accuracy - Fine Tuning')\n",
    "\n",
    "plt.subplot(2, 1, 2)\n",
    "plt.plot(loss, label='Training Loss')\n",
    "plt.plot(val_loss, label='Validation Loss')\n",
    "plt.legend(loc='upper right')\n",
    "plt.ylabel('Cross Entropy')\n",
    "plt.ylim([0,1.0])\n",
    "plt.title('VGG16 Training and Validation Loss - Fine Tuning')\n",
    "plt.xlabel('epoch')\n",
    "plt.show()"
   ]
  },
  {
   "cell_type": "code",
   "execution_count": 24,
   "metadata": {},
   "outputs": [
    {
     "name": "stdout",
     "output_type": "stream",
     "text": [
      "Failed to import pydot. You must install pydot and graphviz for `pydotprint` to work.\n"
     ]
    }
   ],
   "source": [
    "from tensorflow.keras.utils import plot_model\n",
    "#plot_model(arima_model, to_file='arima_model.png', show_shapes=True, show_layer_names=True)\n",
    "plot_model(model, to_file='VGG16_model.png', show_shapes=True, show_layer_names=True)"
   ]
  },
  {
   "cell_type": "markdown",
   "metadata": {},
   "source": [
    "### Resources\n",
    "\n",
    "TensorFlow* Optimizations on Modern Intel® Architecture, https://software.intel.com/en-us/articles/tensorflow-optimizations-on-modern-intel-architecture\n",
    "\n",
    "Intel Optimized TensorFlow Wheel Now Available, https://software.intel.com/en-us/articles/intel-optimized-tensorflow-wheel-now-available\n",
    "\n",
    "Build and Install TensorFlow* on Intel® Architecture, https://software.intel.com/en-us/articles/build-and-install-tensorflow-on-intel-architecture\n",
    "\n",
    "TensorFlow, https://www.tensorflow.org/\n",
    "\n",
    "### Case Studies\n",
    "\n",
    "Manufacturing Package Fault Detection Using Deep Learning, https://software.intel.com/en-us/articles/manufacturing-package-fault-detection-using-deep-learning\n",
    "\n",
    "Automatic Defect Inspection Using Deep Learning for Solar Farm, https://software.intel.com/en-us/articles/automatic-defect-inspection-using-deep-learning-for-solar-farm\n"
   ]
  }
 ],
 "metadata": {
  "kernelspec": {
   "display_name": "Python [conda env:opencv-forge] *",
   "language": "python",
   "name": "conda-env-opencv-forge-py"
  },
  "language_info": {
   "codemirror_mode": {
    "name": "ipython",
    "version": 3
   },
   "file_extension": ".py",
   "mimetype": "text/x-python",
   "name": "python",
   "nbconvert_exporter": "python",
   "pygments_lexer": "ipython3",
   "version": "3.6.12"
  }
 },
 "nbformat": 4,
 "nbformat_minor": 2
}
